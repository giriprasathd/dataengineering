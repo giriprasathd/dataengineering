{
 "cells": [
  {
   "cell_type": "markdown",
   "metadata": {},
   "source": [
    "# Amazon Retail data analysis"
   ]
  },
  {
   "cell_type": "code",
   "execution_count": 1,
   "metadata": {},
   "outputs": [
    {
     "data": {
      "text/html": [
       "\n",
       "            <div>\n",
       "                <p><b>SparkSession - in-memory</b></p>\n",
       "                \n",
       "        <div>\n",
       "            <p><b>SparkContext</b></p>\n",
       "\n",
       "            <p><a href=\"http://LAPTOP-S67TFTS4:4040\">Spark UI</a></p>\n",
       "\n",
       "            <dl>\n",
       "              <dt>Version</dt>\n",
       "                <dd><code>v3.5.1</code></dd>\n",
       "              <dt>Master</dt>\n",
       "                <dd><code>local[*]</code></dd>\n",
       "              <dt>AppName</dt>\n",
       "                <dd><code>amzaon</code></dd>\n",
       "            </dl>\n",
       "        </div>\n",
       "        \n",
       "            </div>\n",
       "        "
      ],
      "text/plain": [
       "<pyspark.sql.session.SparkSession at 0x2be4c8aeba0>"
      ]
     },
     "execution_count": 1,
     "metadata": {},
     "output_type": "execute_result"
    }
   ],
   "source": [
    "from pyspark.sql import SparkSession\n",
    "from pyspark.sql import functions as F\n",
    "spark = SparkSession.builder.appName(\"amzaon\").getOrCreate()\n",
    "spark"
   ]
  },
  {
   "cell_type": "code",
   "execution_count": 2,
   "metadata": {},
   "outputs": [
    {
     "name": "stdout",
     "output_type": "stream",
     "text": [
      "+-----+-------------------+--------+--------------------+----------+--------------+------------------+-------+-------------------+-------------+----+----------+--------------+---+--------+------+-----------+-------------+----------------+------------+--------------------+-----+------------+-----------+\n",
      "|index|           Order ID|    Date|              Status|Fulfilment|Sales Channel |ship-service-level|  Style|                SKU|     Category|Size|      ASIN|Courier Status|Qty|currency|Amount|  ship-city|   ship-state|ship-postal-code|ship-country|       promotion-ids|  B2B|fulfilled-by|Unnamed: 22|\n",
      "+-----+-------------------+--------+--------------------+----------+--------------+------------------+-------+-------------------+-------------+----+----------+--------------+---+--------+------+-----------+-------------+----------------+------------+--------------------+-----+------------+-----------+\n",
      "|    0|405-8078784-5731545|04-30-22|           Cancelled|  Merchant|     Amazon.in|          Standard| SET389|     SET389-KR-NP-S|          Set|   S|B09KXVBD7Z|          NULL|  0|     INR|647.62|     MUMBAI|  MAHARASHTRA|        400081.0|          IN|                NULL|false|   Easy Ship|       NULL|\n",
      "|    1|171-9198151-1101146|04-30-22|Shipped - Deliver...|  Merchant|     Amazon.in|          Standard|JNE3781|    JNE3781-KR-XXXL|        kurta| 3XL|B09K3WFS32|       Shipped|  1|     INR| 406.0|  BENGALURU|    KARNATAKA|        560085.0|          IN|Amazon PLCC Free-...|false|   Easy Ship|       NULL|\n",
      "|    2|404-0687676-7273146|04-30-22|             Shipped|    Amazon|     Amazon.in|         Expedited|JNE3371|      JNE3371-KR-XL|        kurta|  XL|B07WV4JV4D|       Shipped|  1|     INR| 329.0|NAVI MUMBAI|  MAHARASHTRA|        410210.0|          IN|IN Core Free Ship...| true|        NULL|       NULL|\n",
      "|    3|403-9615377-8133951|04-30-22|           Cancelled|  Merchant|     Amazon.in|          Standard|  J0341|         J0341-DR-L|Western Dress|   L|B099NRCT7B|          NULL|  0|     INR|753.33| PUDUCHERRY|   PUDUCHERRY|        605008.0|          IN|                NULL|false|   Easy Ship|       NULL|\n",
      "|    4|407-1069790-7240320|04-30-22|             Shipped|    Amazon|     Amazon.in|         Expedited|JNE3671|    JNE3671-TU-XXXL|          Top| 3XL|B098714BZP|       Shipped|  1|     INR| 574.0|    CHENNAI|   TAMIL NADU|        600073.0|          IN|                NULL|false|        NULL|       NULL|\n",
      "|    5|404-1490984-4578765|04-30-22|             Shipped|    Amazon|     Amazon.in|         Expedited| SET264|    SET264-KR-NP-XL|          Set|  XL|B08YN7XDSG|       Shipped|  1|     INR| 824.0|  GHAZIABAD|UTTAR PRADESH|        201102.0|          IN|IN Core Free Ship...|false|        NULL|       NULL|\n",
      "|    6|408-5748499-6859555|04-30-22|             Shipped|    Amazon|     Amazon.in|         Expedited|  J0095|        J0095-SET-L|          Set|   L|B08CMHNWBN|       Shipped|  1|     INR| 653.0| CHANDIGARH|   CHANDIGARH|        160036.0|          IN|IN Core Free Ship...|false|        NULL|       NULL|\n",
      "|    7|406-7807733-3785945|04-30-22|Shipped - Deliver...|  Merchant|     Amazon.in|          Standard|JNE3405|       JNE3405-KR-S|        kurta|   S|B081WX4G4Q|       Shipped|  1|     INR| 399.0|  HYDERABAD|    TELANGANA|        500032.0|          IN|Amazon PLCC Free-...|false|   Easy Ship|       NULL|\n",
      "|    8|407-5443024-5233168|04-30-22|           Cancelled|    Amazon|     Amazon.in|         Expedited| SET200|SET200-KR-NP-A-XXXL|          Set| 3XL|B08L91ZZXN|     Cancelled|  0|    NULL|  NULL|  HYDERABAD|    TELANGANA|        500008.0|          IN|IN Core Free Ship...|false|        NULL|       NULL|\n",
      "|    9|402-4393761-0311520|04-30-22|             Shipped|    Amazon|     Amazon.in|         Expedited|JNE3461|     JNE3461-KR-XXL|        kurta| XXL|B08B3XF5MH|       Shipped|  1|     INR| 363.0|    Chennai|   TAMIL NADU|        600041.0|          IN|                NULL|false|        NULL|       NULL|\n",
      "+-----+-------------------+--------+--------------------+----------+--------------+------------------+-------+-------------------+-------------+----+----------+--------------+---+--------+------+-----------+-------------+----------------+------------+--------------------+-----+------------+-----------+\n",
      "only showing top 10 rows\n",
      "\n"
     ]
    }
   ],
   "source": [
    "df=spark.read.csv(\"./datasets/Amazon Sale Report.csv\",header=True,inferSchema=True)\n",
    "df.show(10)"
   ]
  },
  {
   "cell_type": "markdown",
   "metadata": {},
   "source": [
    "1.▪️ Calculate the total quantity (Qty) sold for each Category using groupBy and expr."
   ]
  },
  {
   "cell_type": "code",
   "execution_count": 28,
   "metadata": {},
   "outputs": [
    {
     "name": "stdout",
     "output_type": "stream",
     "text": [
      "+-------------+-----+\n",
      "|     Category|Total|\n",
      "+-------------+-----+\n",
      "| Ethnic Dress| 1053|\n",
      "|          Top| 9903|\n",
      "|          Set|45289|\n",
      "|        Saree|  152|\n",
      "|       Bottom|  398|\n",
      "|Western Dress|13943|\n",
      "|       Blouse|  863|\n",
      "|        kurta|45045|\n",
      "|      Dupatta|    3|\n",
      "+-------------+-----+\n",
      "\n"
     ]
    }
   ],
   "source": [
    "df.groupBy(df[\"Category\"]).agg(F.expr(\"sum(Qty) as Total\")).show()"
   ]
  },
  {
   "cell_type": "markdown",
   "metadata": {},
   "source": [
    "▪️ Find the total revenue (Amount) for each Sales Channel using groupBy and expr."
   ]
  },
  {
   "cell_type": "code",
   "execution_count": 30,
   "metadata": {},
   "outputs": [
    {
     "name": "stdout",
     "output_type": "stream",
     "text": [
      "+--------------+-------------+\n",
      "|Sales Channel |Total_revenue|\n",
      "+--------------+-------------+\n",
      "|    Non-Amazon|         NULL|\n",
      "|     Amazon.in| 7.85926783E7|\n",
      "+--------------+-------------+\n",
      "\n"
     ]
    }
   ],
   "source": [
    "df.groupBy(df[\"Sales Channel \"]).agg(F.expr(\"sum(amount) as Total_revenue\")).show()"
   ]
  },
  {
   "cell_type": "markdown",
   "metadata": {},
   "source": [
    "▪️ Determine the average Amount spent on orders based on the ship-state using groupBy and expr."
   ]
  },
  {
   "cell_type": "code",
   "execution_count": 37,
   "metadata": {},
   "outputs": [
    {
     "name": "stdout",
     "output_type": "stream",
     "text": [
      "+-----------------+-------+\n",
      "|       ship-state|average|\n",
      "+-----------------+-------+\n",
      "|            bihar| 1432.0|\n",
      "|           LADAKH| 914.01|\n",
      "|           Sikkim|  901.0|\n",
      "|            delhi| 827.68|\n",
      "|       Chandigarh| 823.15|\n",
      "|         NAGALAND| 801.29|\n",
      "|      LAKSHADWEEP| 793.82|\n",
      "|           SIKKIM| 738.64|\n",
      "|          Mizoram|  735.0|\n",
      "|           Punjab| 733.77|\n",
      "|            Bihar| 733.07|\n",
      "|            BIHAR| 720.61|\n",
      "|          MANIPUR| 714.02|\n",
      "|ARUNACHAL PRADESH| 710.71|\n",
      "|  JAMMU & KASHMIR| 704.06|\n",
      "|        RAJASTHAN| 695.62|\n",
      "| HIMACHAL PRADESH| 695.25|\n",
      "|           ODISHA| 694.79|\n",
      "|          HARYANA| 688.18|\n",
      "|    UTTAR PRADESH|  685.3|\n",
      "+-----------------+-------+\n",
      "only showing top 20 rows\n",
      "\n"
     ]
    }
   ],
   "source": [
    "s = df.groupBy(\"ship-state\").agg(F.expr(\"round(avg(amount), 2) as average\"))\n",
    "s = s.orderBy(F.desc(\"average\"))\n",
    "s.show()"
   ]
  },
  {
   "cell_type": "markdown",
   "metadata": {},
   "source": [
    "▪️ Group orders by Courier Status and count the number of orders in each status."
   ]
  },
  {
   "cell_type": "code",
   "execution_count": 41,
   "metadata": {},
   "outputs": [
    {
     "name": "stdout",
     "output_type": "stream",
     "text": [
      "+--------------+------+\n",
      "|Courier Status| count|\n",
      "+--------------+------+\n",
      "|       Shipped|109487|\n",
      "|          NULL|  6872|\n",
      "|     Cancelled|  5935|\n",
      "|     Unshipped|  6681|\n",
      "+--------------+------+\n",
      "\n"
     ]
    }
   ],
   "source": [
    "df.groupBy(df[\"Courier Status\"]).count().show()"
   ]
  },
  {
   "cell_type": "markdown",
   "metadata": {},
   "source": [
    "▪️ Use groupBy and expr to find the maximum and minimum Amount spent per Category."
   ]
  },
  {
   "cell_type": "code",
   "execution_count": 43,
   "metadata": {},
   "outputs": [
    {
     "name": "stdout",
     "output_type": "stream",
     "text": [
      "+-------------+-------+-----+\n",
      "|     Category|    Max|  min|\n",
      "+-------------+-------+-----+\n",
      "| Ethnic Dress| 1449.0|  0.0|\n",
      "|          Top| 1797.0|  0.0|\n",
      "|          Set| 5584.0|  0.0|\n",
      "|        Saree| 2058.0|  0.0|\n",
      "|       Bottom|1028.58|  0.0|\n",
      "|Western Dress| 2860.0|  0.0|\n",
      "|       Blouse|1266.66|  0.0|\n",
      "|        kurta| 2796.0|  0.0|\n",
      "|      Dupatta|  305.0|305.0|\n",
      "+-------------+-------+-----+\n",
      "\n"
     ]
    }
   ],
   "source": [
    "df.groupBy(df[\"Category\"]).agg(F.expr(\"max(Amount) as Max\"),F.expr(\"min(Amount) as min\")).show()"
   ]
  },
  {
   "cell_type": "markdown",
   "metadata": {},
   "source": [
    " Find the count of orders per Status and Fulfilment type using groupBy."
   ]
  },
  {
   "cell_type": "code",
   "execution_count": 47,
   "metadata": {},
   "outputs": [
    {
     "name": "stdout",
     "output_type": "stream",
     "text": [
      "+----------+-----+\n",
      "|Fulfilment|count|\n",
      "+----------+-----+\n",
      "|  Merchant|39277|\n",
      "|    Amazon|89698|\n",
      "+----------+-----+\n",
      "\n"
     ]
    }
   ],
   "source": [
    "df.groupBy(df[\"Fulfilment\"]).count().show()"
   ]
  },
  {
   "cell_type": "markdown",
   "metadata": {},
   "source": [
    "▪️ Identify the most frequent ship-service-level used in each State."
   ]
  },
  {
   "cell_type": "code",
   "execution_count": 6,
   "metadata": {},
   "outputs": [
    {
     "name": "stdout",
     "output_type": "stream",
     "text": [
      "+--------------------+-----+\n",
      "|          ship-state|count|\n",
      "+--------------------+-----+\n",
      "|     DADRA AND NAGAR|   70|\n",
      "|              SIKKIM|  202|\n",
      "|           MEGHALAYA|  204|\n",
      "|                  NL|    2|\n",
      "|              Odisha|   21|\n",
      "|         WEST BENGAL| 5963|\n",
      "|              Punjab|   34|\n",
      "|Punjab/Mohali/Zir...|    1|\n",
      "|                 GOA| 1102|\n",
      "|        CHHATTISGARH|  909|\n",
      "|           RAJASTHAN| 2650|\n",
      "|                NULL|   33|\n",
      "|             Manipur|    5|\n",
      "|              punjab|   14|\n",
      "|             TRIPURA|  151|\n",
      "|               DELHI| 6782|\n",
      "|                 Goa|   30|\n",
      "|    HIMACHAL PRADESH|  788|\n",
      "|               BIHAR| 2086|\n",
      "|          CHANDIGARH|  322|\n",
      "+--------------------+-----+\n",
      "only showing top 20 rows\n",
      "\n"
     ]
    }
   ],
   "source": [
    "df.groupby (df[\"ship-state\"]).count().show()"
   ]
  },
  {
   "cell_type": "code",
   "execution_count": 51,
   "metadata": {},
   "outputs": [
    {
     "name": "stdout",
     "output_type": "stream",
     "text": [
      "+------------------+------------------+-----+\n",
      "|        ship-state|ship-service-level|count|\n",
      "+------------------+------------------+-----+\n",
      "|ANDAMAN & NICOBAR |          Standard|   95|\n",
      "|         rajasthan|          Standard|    3|\n",
      "|         TELANGANA|         Expedited| 7974|\n",
      "|   JAMMU & KASHMIR|          Standard|  253|\n",
      "|         Rajasthan|          Standard|   17|\n",
      "|         MEGHALAYA|          Standard|   71|\n",
      "|              NULL|         Expedited|   20|\n",
      "|           MANIPUR|          Standard|  106|\n",
      "|         JHARKHAND|          Standard|  511|\n",
      "|        CHANDIGARH|          Standard|  119|\n",
      "|        CHANDIGARH|         Expedited|  203|\n",
      "|           MIZORAM|         Expedited|   48|\n",
      "|        Puducherry|         Expedited|    1|\n",
      "|           MIZORAM|          Standard|   27|\n",
      "|  HIMACHAL PRADESH|          Standard|  305|\n",
      "|             BIHAR|          Standard|  699|\n",
      "|        PUDUCHERRY|         Expedited|  241|\n",
      "|         Rajshthan|         Expedited|    3|\n",
      "|               GOA|          Standard|  335|\n",
      "|       MAHARASHTRA|          Standard| 6563|\n",
      "+------------------+------------------+-----+\n",
      "only showing top 20 rows\n",
      "\n"
     ]
    }
   ],
   "source": [
    "df.groupBy(col(\"ship-state\"),col(\"ship-service-level\")).count().show()"
   ]
  },
  {
   "cell_type": "code",
   "execution_count": 9,
   "metadata": {},
   "outputs": [
    {
     "name": "stdout",
     "output_type": "stream",
     "text": [
      "root\n",
      " |-- index: integer (nullable = true)\n",
      " |-- Order ID: string (nullable = true)\n",
      " |-- Date: string (nullable = true)\n",
      " |-- Status: string (nullable = true)\n",
      " |-- Fulfilment: string (nullable = true)\n",
      " |-- Sales Channel : string (nullable = true)\n",
      " |-- ship-service-level: string (nullable = true)\n",
      " |-- Style: string (nullable = true)\n",
      " |-- SKU: string (nullable = true)\n",
      " |-- Category: string (nullable = true)\n",
      " |-- Size: string (nullable = true)\n",
      " |-- ASIN: string (nullable = true)\n",
      " |-- Courier Status: string (nullable = true)\n",
      " |-- Qty: integer (nullable = true)\n",
      " |-- currency: string (nullable = true)\n",
      " |-- Amount: double (nullable = true)\n",
      " |-- ship-city: string (nullable = true)\n",
      " |-- ship-state: string (nullable = true)\n",
      " |-- ship-postal-code: double (nullable = true)\n",
      " |-- ship-country: string (nullable = true)\n",
      " |-- promotion-ids: string (nullable = true)\n",
      " |-- B2B: boolean (nullable = true)\n",
      " |-- fulfilled-by: string (nullable = true)\n",
      " |-- Unnamed: 22: boolean (nullable = true)\n",
      "\n"
     ]
    }
   ],
   "source": [
    "df.printSchema()"
   ]
  }
 ],
 "metadata": {
  "kernelspec": {
   "display_name": "Python 3",
   "language": "python",
   "name": "python3"
  },
  "language_info": {
   "codemirror_mode": {
    "name": "ipython",
    "version": 3
   },
   "file_extension": ".py",
   "mimetype": "text/x-python",
   "name": "python",
   "nbconvert_exporter": "python",
   "pygments_lexer": "ipython3",
   "version": "3.12.4"
  }
 },
 "nbformat": 4,
 "nbformat_minor": 2
}
