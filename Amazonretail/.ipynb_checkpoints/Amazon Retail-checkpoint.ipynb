{
 "cells": [
  {
   "cell_type": "markdown",
   "id": "0b5af980-e7f5-4a89-b5b2-a3c74a9a5797",
   "metadata": {},
   "source": [
    "# Amazon Retail data analysis"
   ]
  },
  {
   "cell_type": "code",
   "execution_count": null,
   "id": "e8b67fc3-fef6-4c0e-a43e-a91f83c789f8",
   "metadata": {},
   "outputs": [],
   "source": [
    "from pyspark.sql import SparkSession\n",
    "from pyspark.sql import functions as F\n",
    "spark = SparkSession.builder.appName(\"amzaon\").getOrCreate()\n",
    "spark"
   ]
  }
 ],
 "metadata": {
  "kernelspec": {
   "display_name": "Python 3 (ipykernel)",
   "language": "python",
   "name": "python3"
  },
  "language_info": {
   "codemirror_mode": {
    "name": "ipython",
    "version": 3
   },
   "file_extension": ".py",
   "mimetype": "text/x-python",
   "name": "python",
   "nbconvert_exporter": "python",
   "pygments_lexer": "ipython3",
   "version": "3.12.4"
  }
 },
 "nbformat": 4,
 "nbformat_minor": 5
}
